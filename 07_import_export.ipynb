{
 "cells": [
  {
   "cell_type": "markdown",
   "metadata": {},
   "source": [
    "# Saving properties to a CSV file\n",
    "Python ships with a large library of handy modules, including the creation of [CSV files](https://en.wikipedia.org/wiki/Comma-separated_values), which is about the most simple structured file format possible and can easily opened in spreadsheet applications such as OpenOffice Calc or MS Excel.\n",
    "\n",
    "To achieve this, we need to import [the CSV module](https://docs.python.org/2/library/csv.html) from the Python standard library, which allows us to read and write CSVs."
   ]
  },
  {
   "cell_type": "code",
   "execution_count": 25,
   "metadata": {},
   "outputs": [
    {
     "data": {
      "application/vnd.jupyter.widget-view+json": {
       "model_id": "f5973bc5c59c4915ad5a3220fd7404e9",
       "version_major": 2,
       "version_minor": 0
      },
      "text/plain": [
       "HBox(children=(VBox(children=(HBox(children=(VBox(children=(Checkbox(value=True, description='Axes', layout=La…"
      ]
     },
     "metadata": {},
     "output_type": "display_data"
    },
    {
     "data": {
      "text/plain": []
     },
     "execution_count": 25,
     "metadata": {},
     "output_type": "execute_result"
    }
   ],
   "source": [
    "import ifcopenshell\n",
    "m = ifcopenshell.open(\"../data/hello_reiff_2021.ifc\")\n",
    "from utils.JupyterIFCRenderer import JupyterIFCRenderer\n",
    "viewer = JupyterIFCRenderer(m, size=(400,300))\n",
    "viewer"
   ]
  },
  {
   "cell_type": "code",
   "execution_count": 26,
   "metadata": {},
   "outputs": [
    {
     "name": "stdout",
     "output_type": "stream",
     "text": [
      "[PSet_WallCommon]\n",
      "Reference            :Wand Eins\n",
      "AccousticRating      :54 dB\n",
      "FireRating           :\n",
      "Combustible          :True\n",
      "SurfaceSpreadOfFlame :\n",
      "ThermalTransmittance :3.14\n",
      "IsExternal           :True\n",
      "ExtendToStructure    :False\n",
      "LoadBearing          :False\n",
      "Compartmentation     :False\n",
      "\n",
      "\n"
     ]
    },
    {
     "ename": "TypeError",
     "evalue": "a bytes-like object is required, not 'str'",
     "output_type": "error",
     "traceback": [
      "\u001b[0;31m---------------------------------------------------------------------------\u001b[0m",
      "\u001b[0;31mTypeError\u001b[0m                                 Traceback (most recent call last)",
      "\u001b[0;32m<ipython-input-26-eb2d97f12383>\u001b[0m in \u001b[0;36m<module>\u001b[0;34m\u001b[0m\n\u001b[1;32m     13\u001b[0m              \u001b[0mprint\u001b[0m \u001b[0;34m(\u001b[0m\u001b[0;34m\"{:<20} :{}\"\u001b[0m\u001b[0;34m.\u001b[0m\u001b[0mformat\u001b[0m\u001b[0;34m(\u001b[0m\u001b[0mprop\u001b[0m\u001b[0;34m.\u001b[0m\u001b[0mName\u001b[0m\u001b[0;34m,\u001b[0m\u001b[0mprop\u001b[0m\u001b[0;34m.\u001b[0m\u001b[0mNominalValue\u001b[0m\u001b[0;34m.\u001b[0m\u001b[0mwrappedValue\u001b[0m\u001b[0;34m)\u001b[0m\u001b[0;34m)\u001b[0m\u001b[0;34m\u001b[0m\u001b[0;34m\u001b[0m\u001b[0m\n\u001b[1;32m     14\u001b[0m          \u001b[0mprint\u001b[0m \u001b[0;34m(\u001b[0m\u001b[0;34m\"\\n\"\u001b[0m\u001b[0;34m)\u001b[0m\u001b[0;34m\u001b[0m\u001b[0;34m\u001b[0m\u001b[0m\n\u001b[0;32m---> 15\u001b[0;31m          \u001b[0mcsv_writer\u001b[0m\u001b[0;34m.\u001b[0m\u001b[0mwriterow\u001b[0m\u001b[0;34m(\u001b[0m\u001b[0;34m[\u001b[0m\u001b[0mselection\u001b[0m\u001b[0;34m.\u001b[0m\u001b[0mGlobalId\u001b[0m\u001b[0;34m,\u001b[0m \u001b[0mselection\u001b[0m\u001b[0;34m.\u001b[0m\u001b[0mName\u001b[0m\u001b[0;34m,\u001b[0m \u001b[0mrelDefinesByProperties\u001b[0m\u001b[0;34m.\u001b[0m\u001b[0mRelatingPropertyDefinition\u001b[0m\u001b[0;34m.\u001b[0m\u001b[0mName\u001b[0m\u001b[0;34m,\u001b[0m\u001b[0mprop\u001b[0m\u001b[0;34m.\u001b[0m\u001b[0mName\u001b[0m\u001b[0;34m,\u001b[0m\u001b[0mprop\u001b[0m\u001b[0;34m.\u001b[0m\u001b[0mNominalValue\u001b[0m\u001b[0;34m.\u001b[0m\u001b[0mwrappedValue\u001b[0m\u001b[0;34m]\u001b[0m\u001b[0;34m)\u001b[0m\u001b[0;34m\u001b[0m\u001b[0;34m\u001b[0m\u001b[0m\n\u001b[0m",
      "\u001b[0;31mTypeError\u001b[0m: a bytes-like object is required, not 'str'"
     ]
    }
   ],
   "source": [
    "###########################################################################\n",
    "# A simple script that iterates over all IfcPropertySets of the currently #\n",
    "# selected object and writes them to a CSV file                           #\n",
    "###########################################################################\n",
    "import csv\n",
    "selection = viewer.getSelectedProduct()\n",
    "    #get the IfcProduct that is stored in the global variable 'selection'\n",
    "with open(r'../data/properties.csv', 'wb') as testfile:\n",
    "    csv_writer = csv.writer(testfile, delimiter=';')\n",
    "    for relDefinesByProperties in selection.IsDefinedBy:\n",
    "         print(\"[{0}]\".format(relDefinesByProperties.RelatingPropertyDefinition.Name))\n",
    "         for prop in relDefinesByProperties.RelatingPropertyDefinition.HasProperties:\n",
    "             print (\"{:<20} :{}\".format(prop.Name,prop.NominalValue.wrappedValue))\n",
    "         print (\"\\n\")\n",
    "         csv_writer.writerow([selection.GlobalId, selection.Name, relDefinesByProperties.RelatingPropertyDefinition.Name,prop.Name,prop.NominalValue.wrappedValue])"
   ]
  },
  {
   "cell_type": "markdown",
   "metadata": {},
   "source": [
    "                \n",
    "# Reading properties from a file\n",
    "Similarly to the above example to *export* information, we can quickly read information from external files (again, CSV to the rescue) and process it within our program.\n",
    "We can e.g. write a simple model checker, to check the minimum heights of all doors etc."
   ]
  },
  {
   "cell_type": "markdown",
   "metadata": {},
   "source": [
    "\n",
    "## Minimalistic Model checker script\n",
    "A simple to use external information defined in e.g. Excel to check values in an IFC file. Create a minimal CSV like:\n",
    "```\n",
    "  Element;Attribute;Min_height\n",
    "  IfcDoor;OverallHeight;2.1\n",
    "  IfcWindow;OverallHeight;1\n",
    "```\n",
    "An example is defined in the `../data` directory \n"
   ]
  },
  {
   "cell_type": "code",
   "execution_count": 22,
   "metadata": {},
   "outputs": [
    {
     "name": "stdout",
     "output_type": "stream",
     "text": [
      "IfcDoor OverallHeight  2.3\n",
      "Element 0LV8Pid0X3IA3jJLVDPidY violates the minimum height requirement with 2.1\n"
     ]
    }
   ],
   "source": [
    "import csv\n",
    "#open the file\n",
    "with open(r'../data/simple_check.csv') as checkfile:\n",
    "    # create a reader, that reads the columns into a dictionary\n",
    "    # using the first row as keys (\"Element\", \"Attribute\", \"Min_height\"\n",
    "    reader = csv.DictReader(checkfile,delimiter=\";\")\n",
    "    # iterate over all rows\n",
    "    for row in reader:\n",
    "        print(row['Element'], row[\"Attribute\"],row['Min_height'])\n",
    "        # get all elements \n",
    "        for element in m.by_type(row[\"Element\"]):\n",
    "            #print (f'{element} , {row[\"Attribute\"]}')\n",
    "            attribute_value=element.get_info()[row[\"Attribute\"]]\n",
    "            if float(attribute_value) < float(row['Min_height']):\n",
    "                print (f\"Element {element.GlobalId} violates the minimum height requirement with {attribute_value}\")\n",
    "     \n",
    "    "
   ]
  },
  {
   "cell_type": "code",
   "execution_count": null,
   "metadata": {},
   "outputs": [],
   "source": []
  },
  {
   "cell_type": "code",
   "execution_count": null,
   "metadata": {},
   "outputs": [],
   "source": []
  }
 ],
 "metadata": {
  "kernelspec": {
   "display_name": "Python 3",
   "language": "python",
   "name": "python3"
  },
  "language_info": {
   "codemirror_mode": {
    "name": "ipython",
    "version": 3
   },
   "file_extension": ".py",
   "mimetype": "text/x-python",
   "name": "python",
   "nbconvert_exporter": "python",
   "pygments_lexer": "ipython3",
   "version": "3.7.8"
  }
 },
 "nbformat": 4,
 "nbformat_minor": 4
}
